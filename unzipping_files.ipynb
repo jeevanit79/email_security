{
  "nbformat": 4,
  "nbformat_minor": 0,
  "metadata": {
    "colab": {
      "provenance": [],
      "authorship_tag": "ABX9TyOopa+JFU2gSdcmjUNLMGx7",
      "include_colab_link": true
    },
    "kernelspec": {
      "name": "python3",
      "display_name": "Python 3"
    },
    "language_info": {
      "name": "python"
    }
  },
  "cells": [
    {
      "cell_type": "markdown",
      "metadata": {
        "id": "view-in-github",
        "colab_type": "text"
      },
      "source": [
        "<a href=\"https://colab.research.google.com/github/jeevanit79/email_security/blob/main/unzipping_files.ipynb\" target=\"_parent\"><img src=\"https://colab.research.google.com/assets/colab-badge.svg\" alt=\"Open In Colab\"/></a>"
      ]
    },
    {
      "cell_type": "markdown",
      "source": [
        "# unzipping files in the folder \"kaggle.com datasets\""
      ],
      "metadata": {
        "id": "ZNL2lHo2_N8z"
      }
    },
    {
      "cell_type": "code",
      "source": [
        "# Specify the path to the folder containing zip files\n",
        "zip_folder_path = \"/content/drive/MyDrive/email security/Datasets/ICS Irving repo\"\n",
        "# Specify the destination folder to extract the files\n",
        "extract_path = \"/content/drive/My Drive/email security/Datasets/ICS Irving repo/unzipped_data\""
      ],
      "metadata": {
        "id": "JMOgIfX-VgqA"
      },
      "execution_count": 7,
      "outputs": []
    },
    {
      "cell_type": "code",
      "execution_count": 8,
      "metadata": {
        "colab": {
          "base_uri": "https://localhost:8080/"
        },
        "id": "VSzRHZa_oXmw",
        "outputId": "e8616f39-de6b-453a-c604-0580fae6a630"
      },
      "outputs": [
        {
          "output_type": "stream",
          "name": "stdout",
          "text": [
            "Drive already mounted at /content/drive; to attempt to forcibly remount, call drive.mount(\"/content/drive\", force_remount=True).\n",
            "Successfully unzipped spambase.zip to /content/drive/My Drive/email security/Datasets/ICS Irving repo/unzipped_data\n",
            "Skipping unzipped_data - not a zip file.\n",
            "Unzipping process completed.\n"
          ]
        }
      ],
      "source": [
        "from google.colab import drive\n",
        "import zipfile\n",
        "import os\n",
        "\n",
        "# Mount Google Drive\n",
        "drive.mount('/content/drive')\n",
        "\n",
        "# Create the destination folder if it doesn't exist\n",
        "os.makedirs(extract_path, exist_ok=True)\n",
        "\n",
        "# Iterate through all files in the zip folder\n",
        "for filename in os.listdir(zip_folder_path):\n",
        "    if filename.endswith(\".zip\"):  # Check if it's a zip file\n",
        "        zip_file_path = os.path.join(zip_folder_path, filename)\n",
        "\n",
        "        try:\n",
        "            with zipfile.ZipFile(zip_file_path, 'r') as zip_ref:\n",
        "                zip_ref.extractall(extract_path)\n",
        "            print(f\"Successfully unzipped {filename} to {extract_path}\")\n",
        "        except zipfile.BadZipFile:\n",
        "            print(f\"Error: Invalid zip file - {filename}. Please check the file.\")\n",
        "        except Exception as e:\n",
        "            print(f\"An error occurred during unzipping {filename}: {e}\")\n",
        "    else:\n",
        "        print(f\"Skipping {filename} - not a zip file.\")\n",
        "\n",
        "print(\"Unzipping process completed.\")"
      ]
    },
    {
      "cell_type": "code",
      "source": [],
      "metadata": {
        "id": "u9_Y-cZpV1KI"
      },
      "execution_count": null,
      "outputs": []
    }
  ]
}