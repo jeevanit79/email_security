{
 "cells": [
  {
   "cell_type": "markdown",
   "id": "d25c4f43-ba7b-4e87-acee-31b712f3abea",
   "metadata": {},
   "source": [
    "Clear sqs queue's - One time run"
   ]
  },
  {
   "cell_type": "code",
   "execution_count": null,
   "id": "93375323-febb-4d76-bc23-8c7b05251508",
   "metadata": {},
   "outputs": [],
   "source": [
    "!pip install boto3"
   ]
  },
  {
   "cell_type": "code",
   "execution_count": null,
   "id": "23de3cfa-34ee-4d54-9b13-b51a178202c9",
   "metadata": {},
   "outputs": [],
   "source": [
    "import boto3\n",
    "\n",
    "# AWS Region\n",
    "AWS_REGION = \"us-east-1\"\n",
    "\n",
    "# Initialize SQS Client\n",
    "sqs = boto3.client(\"sqs\", region_name=AWS_REGION)\n",
    "\n",
    "# ✅ List of SQS Queue Names to Clear\n",
    "SQS_QUEUE_NAMES = [\n",
    "    \"email-file-paths-queue\",  # Queue 1\n",
    "    \"email-file-paths-queue-task2\"  # Queue 2\n",
    "]\n",
    "\n",
    "# ✅ Get Queue URL from Name\n",
    "def get_sqs_queue_url(queue_name):\n",
    "    \"\"\"Fetch SQS Queue URL by name.\"\"\"\n",
    "    response = sqs.get_queue_url(QueueName=queue_name)\n",
    "    return response[\"QueueUrl\"]\n",
    "\n",
    "# ✅ Purge SQS Queue\n",
    "def purge_sqs_queue(queue_url):\n",
    "    \"\"\"Deletes all messages in an SQS queue.\"\"\"\n",
    "    try:\n",
    "        sqs.purge_queue(QueueUrl=queue_url)\n",
    "        print(f\"✅ Cleared messages from: {queue_url}\")\n",
    "    except Exception as e:\n",
    "        print(f\"❌ Failed to purge {queue_url}: {str(e)}\")\n",
    "\n",
    "# ✅ Clear All Queues\n",
    "for queue_name in SQS_QUEUE_NAMES:\n",
    "    try:\n",
    "        queue_url = get_sqs_queue_url(queue_name)\n",
    "        purge_sqs_queue(queue_url)\n",
    "    except Exception as e:\n",
    "        print(f\"❌ Error fetching queue URL for {queue_name}: {str(e)}\")\n"
   ]
  }
 ],
 "metadata": {
  "kernelspec": {
   "display_name": "Python 3 (ipykernel)",
   "language": "python",
   "name": "python3"
  },
  "language_info": {
   "codemirror_mode": {
    "name": "ipython",
    "version": 3
   },
   "file_extension": ".py",
   "mimetype": "text/x-python",
   "name": "python",
   "nbconvert_exporter": "python",
   "pygments_lexer": "ipython3",
   "version": "3.11.11"
  }
 },
 "nbformat": 4,
 "nbformat_minor": 5
}
