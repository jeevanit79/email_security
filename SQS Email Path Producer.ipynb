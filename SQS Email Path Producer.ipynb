{
 "cells": [
  {
   "cell_type": "code",
   "execution_count": 0,
   "metadata": {
    "application/vnd.databricks.v1+cell": {
     "cellMetadata": {
      "byteLimit": 2048000,
      "rowLimit": 10000
     },
     "inputWidgets": {},
     "nuid": "2af68c0f-7513-4102-acf8-a57be96fe1f9",
     "showTitle": false,
     "tableResultSettingsMap": {},
     "title": ""
    }
   },
   "outputs": [],
   "source": [
    "# Directory path with your email files\n",
    "directory_path = \"dbfs:/tmp/enron_extracted/maildir/benson-r/discussion_threads/\""
   ]
  },
  {
   "cell_type": "code",
   "execution_count": 0,
   "metadata": {
    "application/vnd.databricks.v1+cell": {
     "cellMetadata": {
      "byteLimit": 2048000,
      "rowLimit": 10000
     },
     "inputWidgets": {},
     "nuid": "c181608a-c0f6-4f39-936a-14210f968ae7",
     "showTitle": false,
     "tableResultSettingsMap": {},
     "title": ""
    }
   },
   "outputs": [],
   "source": [
    "import boto3\n",
    "import json\n",
    "\n",
    "# Initialize clients\n",
    "sns = boto3.client('sns', region_name='us-east-1')\n",
    "\n",
    "# Replace with your SNS Topic ARN\n",
    "sns_topic_arn = 'arn:aws:sns:us-east-1:221082192243:email-path-distribution-topic'\n",
    "\n",
    "def push_email_paths_to_sns():\n",
    "    print(f\"Scanning directory: {directory_path}\")\n",
    "\n",
    "    # List files in the directory using Databricks utilities\n",
    "    files = dbutils.fs.ls(directory_path)\n",
    "\n",
    "    # Publish each file path as a message to SNS\n",
    "    for file in files:\n",
    "        file_path = file.path\n",
    "        message_body = json.dumps({'file_path': file_path})\n",
    "\n",
    "        # Publish message to SNS\n",
    "        response = sns.publish(\n",
    "            TopicArn=sns_topic_arn,\n",
    "            Message=message_body\n",
    "        )\n",
    "\n",
    "        print(f\"Message published for file path: {file_path}, Message ID: {response['MessageId']}\")\n",
    "\n",
    "    print(\"All file paths have been sent to SNS.\")\n",
    "\n",
    "# Run the producer function\n",
    "push_email_paths_to_sns()\n"
   ]
  }
 ],
 "metadata": {
  "application/vnd.databricks.v1+notebook": {
   "computePreferences": null,
   "dashboards": [],
   "environmentMetadata": {
    "base_environment": "",
    "environment_version": "2"
   },
   "language": "python",
   "notebookMetadata": {
    "pythonIndentUnit": 4
   },
   "notebookName": "SQS Email Path Producer",
   "widgets": {}
  },
  "language_info": {
   "name": "python"
  }
 },
 "nbformat": 4,
 "nbformat_minor": 0
}
