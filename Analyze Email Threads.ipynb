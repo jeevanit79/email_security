{
 "cells": [
  {
   "cell_type": "code",
   "execution_count": 0,
   "metadata": {
    "application/vnd.databricks.v1+cell": {
     "cellMetadata": {
      "byteLimit": 2048000,
      "rowLimit": 10000
     },
     "inputWidgets": {},
     "nuid": "92af35e9-0824-4a91-8d57-69765fb4ff0b",
     "showTitle": false,
     "tableResultSettingsMap": {},
     "title": ""
    }
   },
   "outputs": [],
   "source": [
    "import boto3\n",
    "import json\n",
    "import re\n",
    "from email import message_from_string\n",
    "\n",
    "# Initialize AWS SQS client\n",
    "sqs = boto3.client('sqs', region_name='us-east-1')\n",
    "\n",
    "# Replace with your actual SQS Queue URL\n",
    "queue_url = 'https://sqs.us-east-1.amazonaws.com/221082192243/email-file-paths-queue'\n",
    "\n",
    "# Function to analyze the email content\n",
    "def analyze_email(email_content):\n",
    "    email_msg = message_from_string(email_content)\n",
    "    body = email_msg.get_payload()\n",
    "    thread_pattern = re.compile(r\"(?i)(^From: .+?$|^Date: .+?$|^To: .+?$)\", re.MULTILINE)\n",
    "    matches = thread_pattern.findall(body)\n",
    "    estimated_email_count = len(matches) // 3\n",
    "    if estimated_email_count >= 2:\n",
    "        return {\"looks_like_thread\": True, \"thread_email_count\": estimated_email_count}\n",
    "    return {\"looks_like_thread\": False, \"thread_email_count\": 1}\n",
    "\n",
    "# Function to process messages from SQS\n",
    "def process_email_threads():\n",
    "    print(\"Polling messages from SQS...\")\n",
    "\n",
    "    no_message_retries = 0  # Counter for retries when no messages are found\n",
    "    max_retries = 5  # Define how many retries before stopping\n",
    "\n",
    "    while no_message_retries < max_retries:\n",
    "        response = sqs.receive_message(\n",
    "            QueueUrl=queue_url,\n",
    "            MaxNumberOfMessages=10,\n",
    "            WaitTimeSeconds=20\n",
    "        )\n",
    "\n",
    "        messages = response.get('Messages', [])\n",
    "        if not messages:\n",
    "            no_message_retries += 1\n",
    "            print(\"No new messages. Waiting... (Retry {}/{})\".format(no_message_retries, max_retries))\n",
    "            continue\n",
    "\n",
    "        # Reset retries on receiving messages\n",
    "        no_message_retries = 0\n",
    "\n",
    "        for message in messages:\n",
    "            try:\n",
    "                sns_notification = json.loads(message['Body'])\n",
    "                message_body = json.loads(sns_notification.get('Message', '{}'))\n",
    "                file_path = message_body['file_path']\n",
    "                print(f\"Processing email file: {file_path}\")\n",
    "\n",
    "                # Read and analyze the email content\n",
    "                email_content = dbutils.fs.head(file_path, 100000)\n",
    "                result = analyze_email(email_content)\n",
    "\n",
    "                # Display results\n",
    "                if result[\"looks_like_thread\"]:\n",
    "                    print(\"This may be an email thread.\")\n",
    "                else:\n",
    "                    print(\"Identified as a single email.\")\n",
    "                print(f\"Number of emails detected: {result['thread_email_count']}\")\n",
    "\n",
    "                # Delete message after processing\n",
    "                sqs.delete_message(QueueUrl=queue_url, ReceiptHandle=message['ReceiptHandle'])\n",
    "                print(\"Message processed and deleted.\")\n",
    "\n",
    "            except Exception as e:\n",
    "                print(f\"Error processing message: {e}\")\n",
    "\n",
    "    print(\"No new messages after multiple retries. Stopping code.\")\n",
    "\n",
    "# Run the function\n",
    "process_email_threads()"
   ]
  }
 ],
 "metadata": {
  "application/vnd.databricks.v1+notebook": {
   "computePreferences": null,
   "dashboards": [],
   "environmentMetadata": {
    "base_environment": "",
    "environment_version": "2"
   },
   "language": "python",
   "notebookMetadata": {
    "pythonIndentUnit": 4
   },
   "notebookName": "Analyze Email Threads",
   "widgets": {}
  },
  "language_info": {
   "name": "python"
  }
 },
 "nbformat": 4,
 "nbformat_minor": 0
}
